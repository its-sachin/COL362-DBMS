{
 "cells": [
  {
   "cell_type": "code",
   "execution_count": 1,
   "id": "6bfd48ff",
   "metadata": {},
   "outputs": [],
   "source": [
    "class Table:\n",
    "    def __init__(self, name) -> None:\n",
    "        file = ''\n",
    "        for i in name:\n",
    "            if(i.upper()==i):file+='_'\n",
    "            file+=i.lower()\n",
    "        file += '.csv'\n",
    "        file = open(file,'r+')\n",
    "        self.table = []\n",
    "        for line in file.readlines():\n",
    "            l = line.strip('\\n').split(',')\n",
    "            self.table.append(l)"
   ]
  },
  {
   "cell_type": "code",
   "execution_count": 2,
   "id": "b24a4fa9",
   "metadata": {},
   "outputs": [],
   "source": [
    "r = open('create_table.sql', 'r+')\n",
    "tables = {}\n",
    "for l in r.readlines():\n",
    "    line = l.replace('\\n', '').replace(' (', '').replace('(','').split(' ')\n",
    "    if(line[0] == 'CREATE'):\n",
    "        name = line[-1]\n",
    "        tables[name] = Table(name)\n"
   ]
  },
  {
   "cell_type": "code",
   "execution_count": 26,
   "id": "ca43ff57",
   "metadata": {},
   "outputs": [
    {
     "name": "stdout",
     "output_type": "stream",
     "text": [
      "['974', '13', '65', '12', '124569']\n"
     ]
    }
   ],
   "source": [
    "# 1\n",
    "yearRaces = []\n",
    "for id,i in enumerate(tables[\"races\"].table):\n",
    "    if(id==0):continue\n",
    "    if(int(i[1])==2017 and tables[\"circuits\"].table[int(i[3])][4] == 'Monaco'):yearRaces.append(int(i[0]))\n",
    "races = []\n",
    "for id,i in enumerate(tables[\"lapTimes\"].table):\n",
    "    if(id==0):continue\n",
    "    if(int(i[0]) in yearRaces):races.append(i)\n",
    "races.sort(key = lambda x : int(x[4]), reverse=True)\n",
    "val = races[0][4]\n",
    "for i in races:\n",
    "    if(val != i[4]):break\n",
    "    print(i)"
   ]
  },
  {
   "cell_type": "code",
   "execution_count": 59,
   "id": "f8984e22",
   "metadata": {},
   "outputs": [
    {
     "data": {
      "text/plain": [
       "[9, 6, 1, 208, 131]"
      ]
     },
     "execution_count": 59,
     "metadata": {},
     "output_type": "execute_result"
    }
   ],
   "source": [
    "# 2\n",
    "cons = {}\n",
    "for id,i in enumerate(tables[\"constructors\"].table):\n",
    "    if(id>0):\n",
    "        cons[int(i[0])] = 0\n",
    "yearRaces = []\n",
    "for id,i in enumerate(tables[\"races\"].table):\n",
    "    if(id==0):continue\n",
    "    if(int(i[1])==2012):yearRaces.append(int(i[0]))\n",
    "\n",
    "for id,i in enumerate(tables[\"constructorResults\"].table):\n",
    "    if(id>0):\n",
    "        if(int(i[1]) in yearRaces):\n",
    "            cons[int(i[2])] += int(i[3])\n",
    "cons = [[cons[i],i] for i in cons]\n",
    "cons.sort(reverse = True)\n",
    "ans = []\n",
    "for i in range(5):\n",
    "    ans.append(cons[i][1])\n",
    "ans"
   ]
  },
  {
   "cell_type": "code",
   "execution_count": 67,
   "id": "ab575fea",
   "metadata": {},
   "outputs": [
    {
     "data": {
      "text/plain": [
       "[[377800, 1]]"
      ]
     },
     "execution_count": 67,
     "metadata": {},
     "output_type": "execute_result"
    }
   ],
   "source": [
    "# 3\n",
    "cons = {}\n",
    "for id,i in enumerate(tables[\"drivers\"].table):\n",
    "    if(id>0):\n",
    "        cons[int(i[0])] = 0\n",
    "yearRaces = []\n",
    "for id,i in enumerate(tables[\"races\"].table):\n",
    "    if(id==0):continue\n",
    "    if(2001<=int(i[1]) and int(i[1]) <=2020):yearRaces.append(int(i[0]))\n",
    "\n",
    "for id,i in enumerate(tables[\"results\"].table):\n",
    "    if(id>0):\n",
    "        if(int(i[1]) in yearRaces):\n",
    "            cons[int(i[2])] += int(i[6])\n",
    "cons = [[cons[i],i] for i in cons]\n",
    "cons.sort(reverse = True)\n",
    "ans = []\n",
    "for i in cons:\n",
    "        if(i[0]==cons[0][0]):ans.append(i)\n",
    "ans"
   ]
  },
  {
   "cell_type": "code",
   "execution_count": 66,
   "id": "3d9cb8d9",
   "metadata": {},
   "outputs": [
    {
     "data": {
      "text/plain": [
       "[[568500, 131]]"
      ]
     },
     "execution_count": 66,
     "metadata": {},
     "output_type": "execute_result"
    }
   ],
   "source": [
    "# 4\n",
    "cons = {}\n",
    "for id,i in enumerate(tables[\"constructors\"].table):\n",
    "    if(id>0):\n",
    "        cons[int(i[0])] = 0\n",
    "yearRaces = []\n",
    "for id,i in enumerate(tables[\"races\"].table):\n",
    "    if(id==0):continue\n",
    "    if(2010<=int(i[1]) and int(i[1]) <=2020):yearRaces.append(int(i[0]))\n",
    "\n",
    "for id,i in enumerate(tables[\"constructorResults\"].table):\n",
    "    if(id>0):\n",
    "        if(int(i[1]) in yearRaces):\n",
    "            cons[int(i[2])] += int(i[3])\n",
    "cons = [[cons[i],i] for i in cons]\n",
    "cons.sort(reverse = True)\n",
    "ans = []\n",
    "for i in cons:\n",
    "        if(i[0]==cons[0][0]):ans.append(i)\n",
    "ans"
   ]
  },
  {
   "cell_type": "code",
   "execution_count": 65,
   "id": "5ab5c61b",
   "metadata": {},
   "outputs": [
    {
     "data": {
      "text/plain": [
       "[[103, 1]]"
      ]
     },
     "execution_count": 65,
     "metadata": {},
     "output_type": "execute_result"
    }
   ],
   "source": [
    "# 5\n",
    "cons = {}\n",
    "for id,i in enumerate(tables[\"drivers\"].table):\n",
    "    if(id>0):\n",
    "        cons[int(i[0])] = 0\n",
    "\n",
    "for id,i in enumerate(tables[\"results\"].table):\n",
    "    if(id>0):\n",
    "        if(int(i[5]) ==1):\n",
    "            cons[int(i[2])] += 1\n",
    "cons = [[cons[i],i] for i in cons]\n",
    "cons.sort(reverse = True)\n",
    "ans = []\n",
    "for i in cons:\n",
    "        if(i[0]==cons[0][0]):ans.append(i)\n",
    "ans"
   ]
  },
  {
   "cell_type": "code",
   "execution_count": 25,
   "id": "90290b19",
   "metadata": {},
   "outputs": [
    {
     "data": {
      "text/plain": [
       "[[230, 6]]"
      ]
     },
     "execution_count": 25,
     "metadata": {},
     "output_type": "execute_result"
    }
   ],
   "source": [
    "# 6\n",
    "cons = {}\n",
    "validrace = {}\n",
    "for id,i in enumerate(tables[\"constructors\"].table):\n",
    "    if(id>0):\n",
    "        cons[int(i[0])] = {i:0 for i in range(1,1081)}\n",
    "        \n",
    "for id,i in enumerate(tables[\"constructorResults\"].table):\n",
    "    if(id>0):\n",
    "        cons[int(i[2])][int(i[1])] += int(i[3])\n",
    "        validrace[int(i[1])] = True\n",
    "\n",
    "races = {i:[] for i in range(1,1081)}\n",
    "for c in cons:\n",
    "    for r in cons[c]:\n",
    "        races[r].append([cons[c][r],c])\n",
    "\n",
    "for r in races:\n",
    "    races[r].sort(reverse=True)\n",
    "    \n",
    "winners = {i:[] for i in range(1,1081)}\n",
    "for r in races:\n",
    "    if(validrace.get(r)!=None):\n",
    "        for c in races[r] :\n",
    "            if(c[0] != races[r][0][0]):break\n",
    "            winners[r].append(c[1])\n",
    "        \n",
    "f = open('outpy.txt','w')\n",
    "for r in winners:\n",
    "    if(validrace.get(r)!=None):\n",
    "        winners[r].sort()\n",
    "        for w in winners[r]:\n",
    "            f.write(f'{w} | {r}\\n')\n",
    "cons = {}\n",
    "for id,i in enumerate(tables[\"constructors\"].table):\n",
    "    if(id>0):\n",
    "        cons[int(i[0])] = 0\n",
    "for r in winners:\n",
    "    for c in winners[r]:\n",
    "        cons[c] += 1\n",
    "        \n",
    "cons = [[cons[i],i] for i in cons]\n",
    "cons.sort(reverse = True)\n",
    "ans = []\n",
    "for i in cons:\n",
    "        if(i[0]==cons[0][0]):ans.append(i)\n",
    "ans\n"
   ]
  },
  {
   "cell_type": "code",
   "execution_count": 23,
   "id": "c11131de",
   "metadata": {},
   "outputs": [],
   "source": [
    "# year winner \n",
    "cons = {}\n",
    "for id,i in enumerate(tables[\"drivers\"].table):\n",
    "    if(id>0):\n",
    "        cons[int(i[0])] = {i:0 for i in range(1950,2022)}\n",
    "\n",
    "yearRaces = {}\n",
    "for id,i in enumerate(tables[\"races\"].table):\n",
    "    if(id==0):continue\n",
    "    yearRaces[int(i[0])] = int(i[1])\n",
    "        \n",
    "for id,i in enumerate(tables[\"results\"].table):\n",
    "    if(id>0):\n",
    "        cons[int(i[2])][yearRaces[int(i[1])]] += int(i[6])\n",
    "\n",
    "years = {i:[] for i in range(1950,2022)}\n",
    "for u in cons:\n",
    "    for y in cons[u]:\n",
    "        years[y].append([cons[u][y],u])\n",
    "\n",
    "winners = {i:0 for i in range(1950,2022)}\n",
    "for i in years:\n",
    "    winners[i] = max(years[i])[1]"
   ]
  },
  {
   "cell_type": "code",
   "execution_count": 82,
   "id": "3203bbc8",
   "metadata": {},
   "outputs": [
    {
     "data": {
      "text/plain": [
       "[[173800, 822], [127400, 817], [116700, 13], [104750, 17], [89600, 815]]"
      ]
     },
     "execution_count": 82,
     "metadata": {},
     "output_type": "execute_result"
    }
   ],
   "source": [
    "# 7\n",
    "winnerset = list(winners.values())\n",
    "cons = {}\n",
    "for id,i in enumerate(tables[\"drivers\"].table):\n",
    "    if(id>0 and int(i[0]) not in winnerset):\n",
    "        cons[int(i[0])] = 0\n",
    "\n",
    "for id,i in enumerate(tables[\"results\"].table):\n",
    "    if(id>0):\n",
    "        if(int(i[2]) not in winnerset):\n",
    "            cons[int(i[2])] += int(i[6])\n",
    "cons = [[cons[i],i] for i in cons]\n",
    "cons.sort(reverse = True)\n",
    "ans = cons[:5]\n",
    "ans"
   ]
  },
  {
   "cell_type": "code",
   "execution_count": 85,
   "id": "6254ba53",
   "metadata": {},
   "outputs": [
    {
     "data": {
      "text/plain": [
       "[[26, 1]]"
      ]
     },
     "execution_count": 85,
     "metadata": {},
     "output_type": "execute_result"
    }
   ],
   "source": [
    "# 8\n",
    "cons = {}\n",
    "for id,i in enumerate(tables[\"drivers\"].table):\n",
    "    if(id>0):\n",
    "        cons[int(i[0])] = {}\n",
    "\n",
    "circuit = {}\n",
    "for id,i in enumerate(tables[\"circuits\"].table):\n",
    "    if(id==0):continue\n",
    "    circuit[int(i[0])] = i[4]\n",
    "    \n",
    "race = {}\n",
    "for id,i in enumerate(tables[\"races\"].table):\n",
    "    if(id==0):continue\n",
    "    race[int(i[0])] = circuit[int(i[3])]\n",
    "    \n",
    "for id,i in enumerate(tables[\"results\"].table):\n",
    "    if(id>0):\n",
    "        if(int(i[5]) ==1):\n",
    "            cons[int(i[2])][race[int(i[1])]] = True\n",
    "cons = [[len(cons[i]),i] for i in cons]\n",
    "cons.sort(reverse = True)\n",
    "ans = []\n",
    "for i in cons:\n",
    "        if(i[0]==cons[0][0]):ans.append(i)\n",
    "ans"
   ]
  },
  {
   "cell_type": "code",
   "execution_count": 92,
   "id": "fa2ab5c1",
   "metadata": {},
   "outputs": [
    {
     "data": {
      "text/plain": [
       "[[6, 18]]"
      ]
     },
     "execution_count": 92,
     "metadata": {},
     "output_type": "execute_result"
    }
   ],
   "source": [
    "# 10\n",
    "\n",
    "stops = {}\n",
    "for id,i in enumerate(tables[\"pitStops\"].table):\n",
    "    if(id==0):continue\n",
    "    r = int(i[0]); d = int(i[1])\n",
    "    if(stops.get(r)==None):stops[r] = {}\n",
    "    if(stops[r].get(d) ==None): stops[r][d] = 0\n",
    "    stops[r][d] += 1\n",
    "   \n",
    "cons = {}\n",
    "for id,i in enumerate(tables[\"drivers\"].table):\n",
    "    if(id>0):\n",
    "        cons[int(i[0])] = 0\n",
    "        \n",
    "for id,i in enumerate(tables[\"results\"].table):\n",
    "    if(id>0):\n",
    "        if(int(i[5]) ==1):\n",
    "            r = int(i[1]); d = int(i[2])\n",
    "            if(stops.get(r) and stops[r].get(d)):\n",
    "                cons[d] = max(stops[r][d],cons[d])\n",
    "            \n",
    "cons = [[cons[i],i] for i in cons]\n",
    "cons.sort(reverse = True)\n",
    "ans = []\n",
    "for i in cons:\n",
    "        if(i[0]==cons[0][0]):ans.append(i)\n",
    "ans"
   ]
  },
  {
   "cell_type": "code",
   "execution_count": null,
   "id": "9c71eea3",
   "metadata": {},
   "outputs": [],
   "source": []
  },
  {
   "cell_type": "code",
   "execution_count": 40,
   "id": "dfff808d",
   "metadata": {},
   "outputs": [
    {
     "name": "stdout",
     "output_type": "stream",
     "text": [
      "6167 5195 9493 137\n"
     ]
    }
   ],
   "source": [
    "import random\n",
    "\n",
    "lo = 5000\n",
    "hi = 10000\n",
    "strmax = 15\n",
    "\n",
    "driverNum = random.randint(lo,hi)\n",
    "circuitNum = random.randint(lo,hi)\n",
    "constNum = random.randint(lo,hi)\n",
    "statusNum = len(tables[\"status\"].table)-1\n",
    "\n",
    "print(driverNum, circuitNum, constNum, statusNum)"
   ]
  },
  {
   "cell_type": "code",
   "execution_count": 42,
   "id": "c2bb0961",
   "metadata": {},
   "outputs": [],
   "source": [
    "drivers = [tables[\"drivers\"].table[0]]\n",
    "circuits = [tables[\"circuits\"].table[0]]\n",
    "const = [tables[\"constructors\"].table[0]]\n",
    "status = tables[\"status\"].table\n",
    "\n",
    "import string\n",
    "def randomstr():\n",
    "    return ''.join(random.choices(string.ascii_lowercase, k = random.randint(5,strmax)))\n",
    "\n",
    "def make(table, maxv):\n",
    "    for i in range(maxv):\n",
    "        val = [i+1]\n",
    "        for j in range(1,len(table[0])):\n",
    "            val.append(randomstr())\n",
    "        table.append(val)\n",
    "        \n",
    "mytables = [\n",
    "    [drivers, driverNum],\n",
    "    [circuits, circuitNum],\n",
    "    [const, constNum],\n",
    "]\n",
    "\n",
    "for i in mytables:\n",
    "    make(i[0],i[1])\n",
    "    \n",
    "races = [tables[\"races\"].table[0]]\n"
   ]
  },
  {
   "cell_type": "code",
   "execution_count": 4,
   "id": "a85ea2ba",
   "metadata": {},
   "outputs": [
    {
     "name": "stdout",
     "output_type": "stream",
     "text": [
      "['19134', '795', '579', '131', '2', '1', '900', '36', '9569000', '-1', '-1', '1']\n",
      "['19135', '795', '475', '131', '3', '2', '600', '36', '9577100', '-1', '-1', '1']\n",
      "\n",
      "['19150', '796', '579', '131', '1', '1', '800', '100', '10463800', '-1', '-1', '1']\n",
      "['19151', '796', '475', '131', '2', '2', '600', '100', '10464100', '-1', '-1', '1']\n",
      "\n",
      "['19166', '797', '475', '131', '1', '1', '900', '90', '11241200', '-1', '-1', '1']\n",
      "['19167', '797', '579', '131', '2', '2', '600', '90', '11241400', '-1', '-1', '1']\n",
      "\n",
      "['19191', '798', '579', '131', '1', '1', '800', '50', '8704400', '-1', '-1', '1']\n",
      "['19192', '798', '641', '131', '9', '2', '600', '50', '8705100', '-1', '-1', '1']\n",
      "\n",
      "['19279', '802', '579', '131', '1', '1', '800', '61', '9767900', '-1', '-1', '1']\n",
      "['19280', '802', '648', '131', '2', '2', '600', '61', '9768000', '-1', '-1', '1']\n",
      "\n",
      "['22152', '901', '1', '131', '1', '1', '2500', '56', '6025974', '53', '1', '1']\n",
      "['22153', '901', '3', '131', '3', '2', '1800', '56', '6043287', '55', '2', '1']\n",
      "\n",
      "['22174', '902', '1', '131', '2', '1', '2500', '57', '5982743', '49', '2', '1']\n",
      "['22175', '902', '3', '131', '1', '2', '1800', '57', '5983828', '49', '1', '1']\n",
      "\n",
      "['22196', '903', '1', '131', '1', '1', '2500', '54', '5608338', '42', '2', '1']\n",
      "['22197', '903', '3', '131', '4', '2', '1800', '54', '5626400', '39', '1', '1']\n",
      "\n",
      "['22218', '904', '1', '131', '1', '1', '2500', '66', '6065155', '54', '3', '1']\n",
      "['22219', '904', '3', '131', '2', '2', '1800', '66', '6065791', '51', '2', '1']\n",
      "\n",
      "['22240', '905', '3', '131', '1', '1', '2500', '78', '6567661', '33', '4', '1']\n",
      "['22241', '905', '1', '131', '2', '2', '1800', '78', '6576871', '34', '3', '1']\n",
      "\n",
      "['22284', '907', '3', '131', '3', '1', '2500', '71', '5274976', '50', '6', '1']\n",
      "['22285', '907', '1', '131', '9', '2', '1800', '71', '5276908', '41', '2', '1']\n",
      "\n",
      "['22395', '912', '1', '131', '1', '1', '2500', '53', '4750236', '29', '1', '1']\n",
      "['22396', '912', '3', '131', '2', '2', '1800', '53', '4753411', '51', '2', '1']\n",
      "\n",
      "['22439', '914', '1', '131', '2', '1', '2500', '44', '6703021', '39', '1', '1']\n",
      "['22440', '914', '3', '131', '1', '2', '1800', '44', '6712201', '15', '6', '1']\n",
      "\n",
      "['22461', '915', '1', '131', '1', '1', '2500', '53', '5510744', '48', '3', '1']\n",
      "['22462', '915', '3', '131', '2', '2', '1800', '53', '5524401', '52', '2', '1']\n",
      "\n",
      "['22482', '916', '1', '131', '2', '1', '2500', '56', '6004785', '49', '4', '1']\n",
      "['22483', '916', '3', '131', '1', '2', '1800', '56', '6009099', '48', '5', '1']\n",
      "\n",
      "['22500', '917', '3', '131', '1', '1', '2500', '71', '5402555', '62', '2', '1']\n",
      "['22501', '917', '1', '131', '2', '2', '1800', '71', '5404012', '62', '1', '1']\n",
      "\n",
      "['22538', '926', '1', '131', '1', '1', '2500', '58', '5514067', '50', '1', '1']\n",
      "['22539', '926', '3', '131', '2', '2', '1800', '58', '5515427', '47', '2', '1']\n",
      "\n",
      "['22576', '928', '1', '131', '1', '1', '2500', '56', '5982008', '31', '1', '1']\n",
      "['22577', '928', '3', '131', '2', '2', '1800', '56', '5982722', '39', '2', '1']\n",
      "\n",
      "['22616', '930', '3', '131', '1', '1', '2500', '66', '6072555', '53', '2', '1']\n",
      "['22617', '930', '1', '131', '2', '2', '1800', '66', '6090106', '54', '1', '1']\n",
      "\n",
      "['22656', '932', '1', '131', '1', '1', '2500', '70', '5513145', '64', '3', '1']\n",
      "['22657', '932', '3', '131', '2', '2', '1800', '70', '5515430', '63', '5', '1']\n",
      "\n",
      "['22676', '933', '3', '131', '2', '1', '2500', '71', '5416930', '35', '1', '1']\n",
      "['22677', '933', '1', '131', '1', '2', '1800', '71', '5425730', '60', '2', '1']\n",
      "\n",
      "['22696', '934', '1', '131', '1', '1', '2500', '52', '5487729', '29', '1', '1']\n",
      "['22697', '934', '3', '131', '2', '2', '1800', '52', '5498685', '24', '2', '1']\n",
      "\n",
      "['22736', '937', '1', '131', '1', '1', '2500', '43', '5020387', '34', '2', '1']\n",
      "['22737', '937', '3', '131', '2', '2', '1800', '43', '5022445', '34', '1', '1']\n",
      "\n",
      "['22796', '940', '1', '131', '2', '1', '2500', '53', '5286508', '33', '1', '1']\n",
      "['22797', '940', '3', '131', '1', '2', '1800', '53', '5305472', '31', '2', '1']\n",
      "\n",
      "['22837', '942', '1', '131', '2', '1', '2500', '56', '6652703', '48', '2', '1']\n",
      "['22838', '942', '3', '131', '1', '2', '1800', '56', '6655553', '49', '1', '1']\n",
      "\n",
      "['22857', '943', '3', '131', '1', '1', '2500', '71', '6155038', '67', '1', '1']\n",
      "['22858', '943', '1', '131', '2', '2', '1800', '71', '6156992', '67', '2', '1']\n",
      "\n",
      "['22877', '944', '3', '131', '1', '1', '2500', '71', '5469090', '57', '2', '1']\n",
      "['22878', '944', '1', '131', '2', '2', '1800', '71', '5476846', '51', '1', '1']\n",
      "\n",
      "['22897', '945', '3', '131', '1', '1', '2500', '55', '5910175', '37', '5', '1']\n",
      "['22898', '945', '1', '131', '2', '2', '1800', '55', '5918446', '44', '1', '1']\n",
      "\n",
      "['22917', '948', '3', '131', '2', '1', '2500', '57', '6495565', '21', '3', '1']\n",
      "['22918', '948', '1', '131', '1', '2', '1800', '57', '6503625', '48', '4', '1']\n",
      "\n",
      "['22983', '951', '3', '131', '1', '1', '2500', '53', '5561997', '52', '1', '1']\n",
      "['22984', '951', '1', '131', '10', '2', '1800', '53', '5587019', '36', '4', '1']\n",
      "\n",
      "['23137', '958', '1', '131', '2', '1', '2500', '70', '6030115', '69', '3', '1']\n",
      "['23138', '958', '3', '131', '1', '2', '1800', '70', '6032092', '60', '2', '1']\n",
      "\n",
      "['23203', '961', '3', '131', '2', '1', '2500', '53', '4648089', '26', '9', '1']\n",
      "['23204', '961', '1', '131', '1', '2', '1800', '53', '4663159', '27', '4', '1']\n",
      "\n",
      "['23291', '965', '1', '131', '1', '1', '2500', '56', '5892618', '45', '4', '1']\n",
      "['23292', '965', '3', '131', '2', '2', '1800', '56', '5897138', '34', '3', '1']\n",
      "\n",
      "['23313', '966', '1', '131', '1', '1', '2500', '71', '6031402', '66', '4', '1']\n",
      "['23314', '966', '3', '131', '2', '2', '1800', '71', '6039756', '43', '5', '1']\n",
      "\n",
      "['23335', '967', '1', '131', '1', '1', '2500', '71', '10861335', '44', '3', '1']\n",
      "['23336', '967', '3', '131', '2', '2', '1800', '71', '10872790', '47', '6', '1']\n",
      "\n",
      "['23357', '968', '1', '131', '1', '1', '2500', '55', '5884013', '37', '5', '1']\n",
      "['23358', '968', '3', '131', '2', '2', '1800', '55', '5884452', '33', '9', '1']\n",
      "\n",
      "['23499', '975', '1', '131', '1', '1', '2500', '70', '5585154', '64', '1', '1']\n",
      "['23500', '975', '822', '131', '3', '2', '1800', '70', '5604937', '65', '5', '1']\n",
      "\n",
      "['23562', '978', '1', '131', '1', '1', '2500', '51', '4887430', '48', '1', '1']\n",
      "['23563', '978', '822', '131', '9', '2', '1800', '51', '4901493', '46', '3', '1']\n",
      "\n",
      "['23622', '981', '1', '131', '1', '1', '2500', '53', '4532312', '50', '2', '1']\n",
      "['23623', '981', '822', '131', '4', '2', '1800', '53', '4536783', '53', '3', '1']\n",
      "\n",
      "['23762', '988', '822', '131', '1', '1', '2500', '55', '5654062', '52', '1', '1']\n",
      "['23763', '988', '1', '131', '2', '2', '1800', '55', '5657961', '51', '3', '1']\n",
      "\n",
      "['23862', '993', '1', '131', '1', '1', '2500', '66', '5729972', '64', '3', '1']\n",
      "['23863', '993', '822', '131', '2', '2', '1800', '66', '5750565', '56', '5', '1']\n",
      "\n",
      "['23983', '999', '1', '131', '14', '1', '2500', '67', '5549845', '66', '1', '1']\n",
      "['23984', '999', '822', '131', '2', '2', '1800', '67', '5554380', '65', '2', '1']\n",
      "\n",
      "['24083', '1004', '1', '131', '2', '1', '2500', '53', '5245181', '50', '2', '1']\n",
      "['24084', '1004', '822', '131', '1', '2', '1800', '53', '5247726', '50', '1', '1']\n",
      "\n",
      "['24103', '1005', '1', '131', '1', '1', '2500', '53', '5237062', '51', '2', '1']\n",
      "['24104', '1005', '822', '131', '2', '2', '1800', '53', '5249981', '46', '3', '1']\n",
      "\n",
      "['24203', '1010', '822', '131', '2', '1', '2600', '58', '5127325', '57', '1', '1']\n",
      "['24204', '1010', '1', '131', '1', '2', '1800', '58', '5148211', '57', '2', '1']\n",
      "\n",
      "['24223', '1011', '1', '131', '3', '1', '2500', '57', '5661295', '36', '2', '1']\n",
      "['24224', '1011', '822', '131', '4', '2', '1800', '57', '5664275', '42', '3', '1']\n",
      "\n",
      "['24243', '1012', '1', '131', '2', '1', '2500', '56', '5526350', '47', '5', '1']\n",
      "['24244', '1012', '822', '131', '1', '2', '1800', '56', '5532902', '38', '4', '1']\n",
      "\n",
      "['24263', '1013', '822', '131', '1', '1', '2500', '51', '5512942', '50', '2', '1']\n",
      "['24264', '1013', '1', '131', '2', '2', '1800', '51', '5514466', '48', '3', '1']\n",
      "\n",
      "['24283', '1014', '1', '131', '2', '1', '2600', '66', '5750443', '54', '1', '1']\n",
      "['24284', '1014', '822', '131', '1', '2', '1800', '66', '5754517', '55', '2', '1']\n",
      "\n",
      "['24346', '1017', '1', '131', '1', '1', '2500', '53', '5071198', '53', '2', '1']\n",
      "['24347', '1017', '822', '131', '2', '2', '1800', '53', '5089254', '43', '3', '1']\n",
      "\n",
      "['24386', '1019', '1', '131', '2', '1', '2600', '52', '4868452', '52', '1', '1']\n",
      "['24387', '1019', '822', '131', '1', '2', '1800', '52', '4893380', '47', '2', '1']\n",
      "\n",
      "['24506', '1025', '1', '131', '2', '1', '2600', '53', '5618992', '51', '1', '1']\n",
      "['24507', '1025', '822', '131', '4', '2', '1800', '53', '5622821', '50', '3', '1']\n",
      "\n",
      "['24566', '1028', '822', '131', '1', '1', '2500', '56', '5635653', '37', '2', '1']\n",
      "['24567', '1028', '1', '131', '5', '2', '1800', '56', '5639801', '26', '7', '1']\n",
      "\n"
     ]
    },
    {
     "name": "stdout",
     "output_type": "stream",
     "text": [
      "['24646', '1032', '1', '131', '1', '1', '2500', '71', '4970683', '68', '3', '1']\n",
      "['24647', '1032', '822', '131', '4', '2', '1800', '71', '4984402', '62', '7', '1']\n",
      "\n",
      "['24746', '1037', '1', '131', '1', '1', '2500', '44', '5048761', '28', '2', '1']\n",
      "['24747', '1037', '822', '131', '2', '2', '1800', '44', '5057209', '27', '5', '1']\n",
      "\n",
      "['24786', '1039', '1', '131', '1', '1', '2600', '59', '8375060', '58', '1', '1']\n",
      "['24787', '1039', '822', '131', '2', '2', '1800', '59', '8379940', '53', '2', '1']\n",
      "\n",
      "['24846', '1042', '1', '131', '1', '1', '2600', '66', '5396828', '63', '1', '1']\n",
      "['24847', '1042', '822', '131', '2', '2', '1800', '66', '5422420', '66', '2', '1']\n",
      "\n",
      "['24866', '1043', '1', '131', '2', '1', '2600', '63', '5312430', '63', '1', '1']\n",
      "['24867', '1043', '822', '131', '1', '2', '1800', '63', '5318213', '63', '2', '1']\n",
      "\n"
     ]
    }
   ],
   "source": [
    "f = open('outt.txt','r+')\n",
    "for l in f.readlines():\n",
    "    line = l.strip('\\n').split('|')\n",
    "    for i in range(len(line)):\n",
    "        line[i] = int(line[i].strip())\n",
    "    l1 = line[3]; l2 = line[4]\n",
    "    for x in tables[\"results\"].table:\n",
    "        try:\n",
    "            k = int(x[0])\n",
    "        except:continue\n",
    "        if(k == l1 or k == l2):print(x)\n",
    "    print()"
   ]
  },
  {
   "cell_type": "code",
   "execution_count": 6,
   "id": "2fa12e50",
   "metadata": {},
   "outputs": [
    {
     "name": "stdout",
     "output_type": "stream",
     "text": [
      "res 25399\n",
      "race 1080\n",
      "lap 514592\n",
      "driver 854\n",
      "1 11161884365632\n",
      "2 696717937080\n",
      "ratio 16.020664563930048\n"
     ]
    }
   ],
   "source": [
    "r = len(tables[\"results\"].table)-1\n",
    "ra = len(tables[\"races\"].table)-1\n",
    "la = len(tables[\"lapTimes\"].table)-1\n",
    "d = len(tables[\"drivers\"].table)-1\n",
    "\n",
    "print(\"res\", r)\n",
    "print(\"race\",ra)\n",
    "print(\"lap\",la)\n",
    "print(\"driver\",d)\n",
    "\n",
    "print(1,r*d*la)\n",
    "print(2,r*r*ra)\n",
    "print(\"ratio\",r*d*la/(r*r*ra) )"
   ]
  },
  {
   "cell_type": "code",
   "execution_count": null,
   "id": "37976d7d",
   "metadata": {},
   "outputs": [],
   "source": []
  }
 ],
 "metadata": {
  "kernelspec": {
   "display_name": "Python 3 (ipykernel)",
   "language": "python",
   "name": "python3"
  },
  "language_info": {
   "codemirror_mode": {
    "name": "ipython",
    "version": 3
   },
   "file_extension": ".py",
   "mimetype": "text/x-python",
   "name": "python",
   "nbconvert_exporter": "python",
   "pygments_lexer": "ipython3",
   "version": "3.8.10"
  }
 },
 "nbformat": 4,
 "nbformat_minor": 5
}
