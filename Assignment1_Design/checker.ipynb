{
 "cells": [
  {
   "cell_type": "code",
   "execution_count": 29,
   "id": "6bfd48ff",
   "metadata": {},
   "outputs": [],
   "source": [
    "class Table:\n",
    "    def __init__(self, name) -> None:\n",
    "        file = ''\n",
    "        for i in name:\n",
    "            if(i.upper()==i):file+='_'\n",
    "            file+=i.lower()\n",
    "        file += '.csv'\n",
    "        file = open(file,'r+')\n",
    "        self.table = []\n",
    "        for line in file.readlines():\n",
    "            l = line.strip('\\n').split(',')\n",
    "            self.table.append(l)"
   ]
  },
  {
   "cell_type": "code",
   "execution_count": 30,
   "id": "b24a4fa9",
   "metadata": {},
   "outputs": [],
   "source": [
    "r = open('create_table.sql', 'r+')\n",
    "tables = {}\n",
    "for l in r.readlines():\n",
    "    line = l.replace('\\n', '').replace(' (', '').replace('(','').split(' ')\n",
    "    if(line[0] == 'CREATE'):\n",
    "        name = line[-1]\n",
    "        tables[name] = Table(name)\n"
   ]
  },
  {
   "cell_type": "code",
   "execution_count": 26,
   "id": "ca43ff57",
   "metadata": {},
   "outputs": [
    {
     "name": "stdout",
     "output_type": "stream",
     "text": [
      "['974', '13', '65', '12', '124569']\n"
     ]
    }
   ],
   "source": [
    "# 1\n",
    "yearRaces = []\n",
    "for id,i in enumerate(tables[\"races\"].table):\n",
    "    if(id==0):continue\n",
    "    if(int(i[1])==2017 and tables[\"circuits\"].table[int(i[3])][4] == 'Monaco'):yearRaces.append(int(i[0]))\n",
    "races = []\n",
    "for id,i in enumerate(tables[\"lapTimes\"].table):\n",
    "    if(id==0):continue\n",
    "    if(int(i[0]) in yearRaces):races.append(i)\n",
    "races.sort(key = lambda x : int(x[4]), reverse=True)\n",
    "val = races[0][4]\n",
    "for i in races:\n",
    "    if(val != i[4]):break\n",
    "    print(i)"
   ]
  },
  {
   "cell_type": "code",
   "execution_count": 59,
   "id": "f8984e22",
   "metadata": {},
   "outputs": [
    {
     "data": {
      "text/plain": [
       "[9, 6, 1, 208, 131]"
      ]
     },
     "execution_count": 59,
     "metadata": {},
     "output_type": "execute_result"
    }
   ],
   "source": [
    "# 2\n",
    "cons = {}\n",
    "for id,i in enumerate(tables[\"constructors\"].table):\n",
    "    if(id>0):\n",
    "        cons[int(i[0])] = 0\n",
    "yearRaces = []\n",
    "for id,i in enumerate(tables[\"races\"].table):\n",
    "    if(id==0):continue\n",
    "    if(int(i[1])==2012):yearRaces.append(int(i[0]))\n",
    "\n",
    "for id,i in enumerate(tables[\"constructorResults\"].table):\n",
    "    if(id>0):\n",
    "        if(int(i[1]) in yearRaces):\n",
    "            cons[int(i[2])] += int(i[3])\n",
    "cons = [[cons[i],i] for i in cons]\n",
    "cons.sort(reverse = True)\n",
    "ans = []\n",
    "for i in range(5):\n",
    "    ans.append(cons[i][1])\n",
    "ans"
   ]
  },
  {
   "cell_type": "code",
   "execution_count": 67,
   "id": "ab575fea",
   "metadata": {},
   "outputs": [
    {
     "data": {
      "text/plain": [
       "[[377800, 1]]"
      ]
     },
     "execution_count": 67,
     "metadata": {},
     "output_type": "execute_result"
    }
   ],
   "source": [
    "# 3\n",
    "cons = {}\n",
    "for id,i in enumerate(tables[\"drivers\"].table):\n",
    "    if(id>0):\n",
    "        cons[int(i[0])] = 0\n",
    "yearRaces = []\n",
    "for id,i in enumerate(tables[\"races\"].table):\n",
    "    if(id==0):continue\n",
    "    if(2001<=int(i[1]) and int(i[1]) <=2020):yearRaces.append(int(i[0]))\n",
    "\n",
    "for id,i in enumerate(tables[\"results\"].table):\n",
    "    if(id>0):\n",
    "        if(int(i[1]) in yearRaces):\n",
    "            cons[int(i[2])] += int(i[6])\n",
    "cons = [[cons[i],i] for i in cons]\n",
    "cons.sort(reverse = True)\n",
    "ans = []\n",
    "for i in cons:\n",
    "        if(i[0]==cons[0][0]):ans.append(i)\n",
    "ans"
   ]
  },
  {
   "cell_type": "code",
   "execution_count": 66,
   "id": "3d9cb8d9",
   "metadata": {},
   "outputs": [
    {
     "data": {
      "text/plain": [
       "[[568500, 131]]"
      ]
     },
     "execution_count": 66,
     "metadata": {},
     "output_type": "execute_result"
    }
   ],
   "source": [
    "# 4\n",
    "cons = {}\n",
    "for id,i in enumerate(tables[\"constructors\"].table):\n",
    "    if(id>0):\n",
    "        cons[int(i[0])] = 0\n",
    "yearRaces = []\n",
    "for id,i in enumerate(tables[\"races\"].table):\n",
    "    if(id==0):continue\n",
    "    if(2010<=int(i[1]) and int(i[1]) <=2020):yearRaces.append(int(i[0]))\n",
    "\n",
    "for id,i in enumerate(tables[\"constructorResults\"].table):\n",
    "    if(id>0):\n",
    "        if(int(i[1]) in yearRaces):\n",
    "            cons[int(i[2])] += int(i[3])\n",
    "cons = [[cons[i],i] for i in cons]\n",
    "cons.sort(reverse = True)\n",
    "ans = []\n",
    "for i in cons:\n",
    "        if(i[0]==cons[0][0]):ans.append(i)\n",
    "ans"
   ]
  },
  {
   "cell_type": "code",
   "execution_count": 65,
   "id": "5ab5c61b",
   "metadata": {},
   "outputs": [
    {
     "data": {
      "text/plain": [
       "[[103, 1]]"
      ]
     },
     "execution_count": 65,
     "metadata": {},
     "output_type": "execute_result"
    }
   ],
   "source": [
    "# 5\n",
    "cons = {}\n",
    "for id,i in enumerate(tables[\"drivers\"].table):\n",
    "    if(id>0):\n",
    "        cons[int(i[0])] = 0\n",
    "\n",
    "for id,i in enumerate(tables[\"results\"].table):\n",
    "    if(id>0):\n",
    "        if(int(i[5]) ==1):\n",
    "            cons[int(i[2])] += 1\n",
    "cons = [[cons[i],i] for i in cons]\n",
    "cons.sort(reverse = True)\n",
    "ans = []\n",
    "for i in cons:\n",
    "        if(i[0]==cons[0][0]):ans.append(i)\n",
    "ans"
   ]
  },
  {
   "cell_type": "code",
   "execution_count": 25,
   "id": "90290b19",
   "metadata": {},
   "outputs": [
    {
     "data": {
      "text/plain": [
       "[[230, 6]]"
      ]
     },
     "execution_count": 25,
     "metadata": {},
     "output_type": "execute_result"
    }
   ],
   "source": [
    "# 6\n",
    "cons = {}\n",
    "validrace = {}\n",
    "for id,i in enumerate(tables[\"constructors\"].table):\n",
    "    if(id>0):\n",
    "        cons[int(i[0])] = {i:0 for i in range(1,1081)}\n",
    "        \n",
    "for id,i in enumerate(tables[\"constructorResults\"].table):\n",
    "    if(id>0):\n",
    "        cons[int(i[2])][int(i[1])] += int(i[3])\n",
    "        validrace[int(i[1])] = True\n",
    "\n",
    "races = {i:[] for i in range(1,1081)}\n",
    "for c in cons:\n",
    "    for r in cons[c]:\n",
    "        races[r].append([cons[c][r],c])\n",
    "\n",
    "for r in races:\n",
    "    races[r].sort(reverse=True)\n",
    "    \n",
    "winners = {i:[] for i in range(1,1081)}\n",
    "for r in races:\n",
    "    if(validrace.get(r)!=None):\n",
    "        for c in races[r] :\n",
    "            if(c[0] != races[r][0][0]):break\n",
    "            winners[r].append(c[1])\n",
    "        \n",
    "f = open('outpy.txt','w')\n",
    "for r in winners:\n",
    "    if(validrace.get(r)!=None):\n",
    "        winners[r].sort()\n",
    "        for w in winners[r]:\n",
    "            f.write(f'{w} | {r}\\n')\n",
    "cons = {}\n",
    "for id,i in enumerate(tables[\"constructors\"].table):\n",
    "    if(id>0):\n",
    "        cons[int(i[0])] = 0\n",
    "for r in winners:\n",
    "    for c in winners[r]:\n",
    "        cons[c] += 1\n",
    "        \n",
    "cons = [[cons[i],i] for i in cons]\n",
    "cons.sort(reverse = True)\n",
    "ans = []\n",
    "for i in cons:\n",
    "        if(i[0]==cons[0][0]):ans.append(i)\n",
    "ans\n"
   ]
  },
  {
   "cell_type": "code",
   "execution_count": 23,
   "id": "c11131de",
   "metadata": {},
   "outputs": [],
   "source": [
    "# year winner \n",
    "cons = {}\n",
    "for id,i in enumerate(tables[\"drivers\"].table):\n",
    "    if(id>0):\n",
    "        cons[int(i[0])] = {i:0 for i in range(1950,2022)}\n",
    "\n",
    "yearRaces = {}\n",
    "for id,i in enumerate(tables[\"races\"].table):\n",
    "    if(id==0):continue\n",
    "    yearRaces[int(i[0])] = int(i[1])\n",
    "        \n",
    "for id,i in enumerate(tables[\"results\"].table):\n",
    "    if(id>0):\n",
    "        cons[int(i[2])][yearRaces[int(i[1])]] += int(i[6])\n",
    "\n",
    "years = {i:[] for i in range(1950,2022)}\n",
    "for u in cons:\n",
    "    for y in cons[u]:\n",
    "        years[y].append([cons[u][y],u])\n",
    "\n",
    "winners = {i:0 for i in range(1950,2022)}\n",
    "for i in years:\n",
    "    winners[i] = max(years[i])[1]"
   ]
  },
  {
   "cell_type": "code",
   "execution_count": 82,
   "id": "3203bbc8",
   "metadata": {},
   "outputs": [
    {
     "data": {
      "text/plain": [
       "[[173800, 822], [127400, 817], [116700, 13], [104750, 17], [89600, 815]]"
      ]
     },
     "execution_count": 82,
     "metadata": {},
     "output_type": "execute_result"
    }
   ],
   "source": [
    "# 7\n",
    "winnerset = list(winners.values())\n",
    "cons = {}\n",
    "for id,i in enumerate(tables[\"drivers\"].table):\n",
    "    if(id>0 and int(i[0]) not in winnerset):\n",
    "        cons[int(i[0])] = 0\n",
    "\n",
    "for id,i in enumerate(tables[\"results\"].table):\n",
    "    if(id>0):\n",
    "        if(int(i[2]) not in winnerset):\n",
    "            cons[int(i[2])] += int(i[6])\n",
    "cons = [[cons[i],i] for i in cons]\n",
    "cons.sort(reverse = True)\n",
    "ans = cons[:5]\n",
    "ans"
   ]
  },
  {
   "cell_type": "code",
   "execution_count": 85,
   "id": "6254ba53",
   "metadata": {},
   "outputs": [
    {
     "data": {
      "text/plain": [
       "[[26, 1]]"
      ]
     },
     "execution_count": 85,
     "metadata": {},
     "output_type": "execute_result"
    }
   ],
   "source": [
    "# 8\n",
    "cons = {}\n",
    "for id,i in enumerate(tables[\"drivers\"].table):\n",
    "    if(id>0):\n",
    "        cons[int(i[0])] = {}\n",
    "\n",
    "circuit = {}\n",
    "for id,i in enumerate(tables[\"circuits\"].table):\n",
    "    if(id==0):continue\n",
    "    circuit[int(i[0])] = i[4]\n",
    "    \n",
    "race = {}\n",
    "for id,i in enumerate(tables[\"races\"].table):\n",
    "    if(id==0):continue\n",
    "    race[int(i[0])] = circuit[int(i[3])]\n",
    "    \n",
    "for id,i in enumerate(tables[\"results\"].table):\n",
    "    if(id>0):\n",
    "        if(int(i[5]) ==1):\n",
    "            cons[int(i[2])][race[int(i[1])]] = True\n",
    "cons = [[len(cons[i]),i] for i in cons]\n",
    "cons.sort(reverse = True)\n",
    "ans = []\n",
    "for i in cons:\n",
    "        if(i[0]==cons[0][0]):ans.append(i)\n",
    "ans"
   ]
  },
  {
   "cell_type": "code",
   "execution_count": 92,
   "id": "fa2ab5c1",
   "metadata": {},
   "outputs": [
    {
     "data": {
      "text/plain": [
       "[[6, 18]]"
      ]
     },
     "execution_count": 92,
     "metadata": {},
     "output_type": "execute_result"
    }
   ],
   "source": [
    "# 10\n",
    "\n",
    "stops = {}\n",
    "for id,i in enumerate(tables[\"pitStops\"].table):\n",
    "    if(id==0):continue\n",
    "    r = int(i[0]); d = int(i[1])\n",
    "    if(stops.get(r)==None):stops[r] = {}\n",
    "    if(stops[r].get(d) ==None): stops[r][d] = 0\n",
    "    stops[r][d] += 1\n",
    "   \n",
    "cons = {}\n",
    "for id,i in enumerate(tables[\"drivers\"].table):\n",
    "    if(id>0):\n",
    "        cons[int(i[0])] = 0\n",
    "        \n",
    "for id,i in enumerate(tables[\"results\"].table):\n",
    "    if(id>0):\n",
    "        if(int(i[5]) ==1):\n",
    "            r = int(i[1]); d = int(i[2])\n",
    "            if(stops.get(r) and stops[r].get(d)):\n",
    "                cons[d] = max(stops[r][d],cons[d])\n",
    "            \n",
    "cons = [[cons[i],i] for i in cons]\n",
    "cons.sort(reverse = True)\n",
    "ans = []\n",
    "for i in cons:\n",
    "        if(i[0]==cons[0][0]):ans.append(i)\n",
    "ans"
   ]
  },
  {
   "cell_type": "code",
   "execution_count": null,
   "id": "9c71eea3",
   "metadata": {},
   "outputs": [],
   "source": []
  },
  {
   "cell_type": "code",
   "execution_count": 40,
   "id": "dfff808d",
   "metadata": {},
   "outputs": [
    {
     "name": "stdout",
     "output_type": "stream",
     "text": [
      "6167 5195 9493 137\n"
     ]
    }
   ],
   "source": [
    "import random\n",
    "\n",
    "lo = 5000\n",
    "hi = 10000\n",
    "strmax = 15\n",
    "\n",
    "driverNum = random.randint(lo,hi)\n",
    "circuitNum = random.randint(lo,hi)\n",
    "constNum = random.randint(lo,hi)\n",
    "statusNum = len(tables[\"status\"].table)-1\n",
    "\n",
    "print(driverNum, circuitNum, constNum, statusNum)"
   ]
  },
  {
   "cell_type": "code",
   "execution_count": 42,
   "id": "c2bb0961",
   "metadata": {},
   "outputs": [],
   "source": [
    "drivers = [tables[\"drivers\"].table[0]]\n",
    "circuits = [tables[\"circuits\"].table[0]]\n",
    "const = [tables[\"constructors\"].table[0]]\n",
    "status = tables[\"status\"].table\n",
    "\n",
    "import string\n",
    "def randomstr():\n",
    "    return ''.join(random.choices(string.ascii_lowercase, k = random.randint(5,strmax)))\n",
    "\n",
    "def make(table, maxv):\n",
    "    for i in range(maxv):\n",
    "        val = [i+1]\n",
    "        for j in range(1,len(table[0])):\n",
    "            val.append(randomstr())\n",
    "        table.append(val)\n",
    "        \n",
    "mytables = [\n",
    "    [drivers, driverNum],\n",
    "    [circuits, circuitNum],\n",
    "    [const, constNum],\n",
    "]\n",
    "\n",
    "for i in mytables:\n",
    "    make(i[0],i[1])\n",
    "    \n",
    "races = [tables[\"races\"].table[0]]\n"
   ]
  },
  {
   "cell_type": "code",
   "execution_count": null,
   "id": "a85ea2ba",
   "metadata": {},
   "outputs": [],
   "source": []
  },
  {
   "cell_type": "code",
   "execution_count": null,
   "id": "2fa12e50",
   "metadata": {},
   "outputs": [],
   "source": []
  }
 ],
 "metadata": {
  "kernelspec": {
   "display_name": "Python 3 (ipykernel)",
   "language": "python",
   "name": "python3"
  },
  "language_info": {
   "codemirror_mode": {
    "name": "ipython",
    "version": 3
   },
   "file_extension": ".py",
   "mimetype": "text/x-python",
   "name": "python",
   "nbconvert_exporter": "python",
   "pygments_lexer": "ipython3",
   "version": "3.8.10"
  }
 },
 "nbformat": 4,
 "nbformat_minor": 5
}
